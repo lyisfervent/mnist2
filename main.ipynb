{
 "cells": [
  {
   "cell_type": "code",
   "execution_count": 3,
   "metadata": {},
   "outputs": [
    {
     "name": "stdout",
     "output_type": "stream",
     "text": [
      "Downloading http://yann.lecun.com/exdb/mnist/train-images-idx3-ubyte.gz\n",
      "Downloading http://yann.lecun.com/exdb/mnist/train-images-idx3-ubyte.gz to ./MNIST_data/MNIST/raw/train-images-idx3-ubyte.gz\n",
      "100%|█████████████████████████████| 9912422/9912422 [00:12<00:00, 781242.24it/s]\n",
      "Extracting ./MNIST_data/MNIST/raw/train-images-idx3-ubyte.gz to ./MNIST_data/MNIST/raw\n",
      "\n",
      "Downloading http://yann.lecun.com/exdb/mnist/train-labels-idx1-ubyte.gz\n",
      "Downloading http://yann.lecun.com/exdb/mnist/train-labels-idx1-ubyte.gz to ./MNIST_data/MNIST/raw/train-labels-idx1-ubyte.gz\n",
      "100%|█████████████████████████████████| 28881/28881 [00:00<00:00, 171684.87it/s]\n",
      "Extracting ./MNIST_data/MNIST/raw/train-labels-idx1-ubyte.gz to ./MNIST_data/MNIST/raw\n",
      "\n",
      "Downloading http://yann.lecun.com/exdb/mnist/t10k-images-idx3-ubyte.gz\n",
      "Downloading http://yann.lecun.com/exdb/mnist/t10k-images-idx3-ubyte.gz to ./MNIST_data/MNIST/raw/t10k-images-idx3-ubyte.gz\n",
      "100%|█████████████████████████████| 1648877/1648877 [00:02<00:00, 689488.34it/s]\n",
      "Extracting ./MNIST_data/MNIST/raw/t10k-images-idx3-ubyte.gz to ./MNIST_data/MNIST/raw\n",
      "\n",
      "Downloading http://yann.lecun.com/exdb/mnist/t10k-labels-idx1-ubyte.gz\n",
      "Downloading http://yann.lecun.com/exdb/mnist/t10k-labels-idx1-ubyte.gz to ./MNIST_data/MNIST/raw/t10k-labels-idx1-ubyte.gz\n",
      "100%|█████████████████████████████████| 4542/4542 [00:00<00:00, 27098902.94it/s]\n",
      "Extracting ./MNIST_data/MNIST/raw/t10k-labels-idx1-ubyte.gz to ./MNIST_data/MNIST/raw\n",
      "\n",
      "Epoch:  1\n",
      "Train Time:  6.417015552520752\n",
      "\n",
      "Train-Accuracy: 47296/60000 (78.827%)\n",
      "Train-Loss: (0.851)\n",
      "\n",
      "val-Accuracy: 9089/10000 (90.890%)\n",
      "val-Loss: (0.318)\n",
      "Traceback (most recent call last):\n",
      "  File \"/mnt/warm/workspace/mnist2/train.py\", line 154, in <module>\n",
      "    train()\n",
      "  File \"/mnt/warm/workspace/mnist2/train.py\", line 141, in train\n",
      "    plt.plot(EPOCH, ACC_train)\n",
      "  File \"/mnt/warm/conda-envs/mmvrac/lib/python3.12/site-packages/matplotlib/pyplot.py\", line 3590, in plot\n",
      "    return gca().plot(\n",
      "           ^^^^^^^^^^^\n",
      "  File \"/mnt/warm/conda-envs/mmvrac/lib/python3.12/site-packages/matplotlib/axes/_axes.py\", line 1724, in plot\n",
      "    lines = [*self._get_lines(self, *args, data=data, **kwargs)]\n",
      "            ^^^^^^^^^^^^^^^^^^^^^^^^^^^^^^^^^^^^^^^^^^^^^^^^^^^^\n",
      "  File \"/mnt/warm/conda-envs/mmvrac/lib/python3.12/site-packages/matplotlib/axes/_base.py\", line 303, in __call__\n",
      "    yield from self._plot_args(\n",
      "               ^^^^^^^^^^^^^^^^\n",
      "  File \"/mnt/warm/conda-envs/mmvrac/lib/python3.12/site-packages/matplotlib/axes/_base.py\", line 489, in _plot_args\n",
      "    y = _check_1d(xy[1])\n",
      "        ^^^^^^^^^^^^^^^^\n",
      "  File \"/mnt/warm/conda-envs/mmvrac/lib/python3.12/site-packages/matplotlib/cbook.py\", line 1358, in _check_1d\n",
      "    return np.atleast_1d(x)\n",
      "           ^^^^^^^^^^^^^^^^\n",
      "  File \"/mnt/warm/conda-envs/mmvrac/lib/python3.12/site-packages/numpy/core/shape_base.py\", line 65, in atleast_1d\n",
      "    ary = asanyarray(ary)\n",
      "          ^^^^^^^^^^^^^^^\n",
      "  File \"/mnt/warm/conda-envs/mmvrac/lib/python3.12/site-packages/torch/_tensor.py\", line 1062, in __array__\n",
      "    return self.numpy()\n",
      "           ^^^^^^^^^^^^\n",
      "TypeError: can't convert cuda:0 device type tensor to numpy. Use Tensor.cpu() to copy the tensor to host memory first.\n"
     ]
    }
   ],
   "source": [
    "!python train.py"
   ]
  },
  {
   "cell_type": "code",
   "execution_count": 9,
   "metadata": {},
   "outputs": [],
   "source": [
    "!python test.py"
   ]
  },
  {
   "cell_type": "code",
   "execution_count": null,
   "metadata": {},
   "outputs": [],
   "source": []
  }
 ],
 "metadata": {
  "kernelspec": {
   "display_name": "mmvrac",
   "language": "python",
   "name": "python3"
  },
  "language_info": {
   "codemirror_mode": {
    "name": "ipython",
    "version": 3
   },
   "file_extension": ".py",
   "mimetype": "text/x-python",
   "name": "python",
   "nbconvert_exporter": "python",
   "pygments_lexer": "ipython3",
   "version": "3.12.2"
  }
 },
 "nbformat": 4,
 "nbformat_minor": 2
}
